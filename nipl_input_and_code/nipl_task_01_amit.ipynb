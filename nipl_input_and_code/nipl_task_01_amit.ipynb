{
 "cells": [
  {
   "cell_type": "markdown",
   "id": "68e9b82e",
   "metadata": {},
   "source": [
    "## Import some required library"
   ]
  },
  {
   "cell_type": "code",
   "execution_count": 1,
   "id": "29c15944",
   "metadata": {},
   "outputs": [],
   "source": [
    "import string\n",
    "# import traceback\n",
    "import re\n",
    "# import os\n",
    "# import json\n",
    "# import pickle\n",
    "# import glob\n",
    "# from PIL import Image\n",
    "# from time import time\n",
    "\n",
    "# from sklearn.model_selection import train_test_split\n",
    "\n",
    "# # import cv2\n",
    "# import numpy as np\n",
    "# from numpy import array\n",
    "# import pandas as pd\n",
    "# import seaborn as sns\n",
    "# import matplotlib.pyplot as plt\n",
    "# %matplotlib inline\n",
    "\n",
    "# from tensorflow import keras\n",
    "# import tensorflow as tf\n",
    "# import tensorflow.compat.v1\n",
    "# from## Import some required library tensorflow.keras import backend as K\n",
    "# from tensorflow.keras.datasets import mnist\n",
    "# from tensorflow.keras import utils\n",
    "# from keras.layers.embeddings import Embedding\n",
    "# from keras.layers.merge import add\n",
    "# from keras.preprocessing import image\n",
    "# from keras.preprocessing.text import Tokenizer\n",
    "# from keras.layers.wrappers import Bidirectional\n",
    "# from keras.layers.merge import add\n",
    "# from keras.applications.inception_v3 import InceptionV3\n",
    "# from keras.applications.inception_v3 import preprocess_input\n",
    "# from tensorflow.keras.utils import to_categorical\n",
    "# from keras.preprocessing import sequence\n",
    "# from keras.preprocessing.sequence import pad_sequences\n",
    "\n",
    "# from tensorflow.keras.models import Model, Sequential\n",
    "# from tensorflow.keras.layers import (Attention, Layer,\n",
    "#                                      Add,concatenate,\n",
    "#                                      Input, \n",
    "#                                      Dense,  \n",
    "#                                      LSTM, Bidirectional, GRU,\n",
    "#                                      ZeroPadding2D, \n",
    "#                                      Convolution2D, Conv2D, \n",
    "#                                      GlobalAveragePooling2D, GlobalAvgPool2D, GlobalMaxPooling2D, GlobalMaxPool2D, \n",
    "#                                      AveragePooling2D, AvgPool2D, MaxPooling2D, MaxPool2D,\n",
    "#                                      Flatten,\n",
    "#                                      BatchNormalization, \n",
    "#                                      Dropout)\n",
    "\n",
    "# from tensorflow.keras.layers import (Activation, \n",
    "#                                      ReLU, \n",
    "#                                      LeakyReLU, \n",
    "#                                      Softmax)\n",
    "\n",
    "# from tensorflow.keras.optimizers import (SGD,\n",
    "#                                          Adam,\n",
    "#                                          Adagrad,\n",
    "#                                          Adadelta,\n",
    "#                                          RMSprop,\n",
    "#                                          Nadam)\n",
    "\n",
    "# from tensorflow.keras.preprocessing.image import ImageDataGenerator, img_to_array, array_to_img, load_img\n",
    "\n",
    "# # from tensorflow.keras.applications.vgg16 import VGG16\n",
    "\n",
    "# from tqdm import tqdm\n",
    "# from tensorflow.keras.applications.vgg16 import VGG16\n",
    "# # import pyphen\n",
    "# import eng_to_ipa as ipa  # international phonetic aphabet"
   ]
  },
  {
   "cell_type": "markdown",
   "id": "cbfca16a",
   "metadata": {},
   "source": [
    "## 01 First Part"
   ]
  },
  {
   "cell_type": "markdown",
   "id": "1974d455",
   "metadata": {},
   "source": [
    "### 1.1 Extract the data"
   ]
  },
  {
   "cell_type": "code",
   "execution_count": 2,
   "id": "be2d55a5",
   "metadata": {},
   "outputs": [],
   "source": [
    "with open(\"ml.txt\", \"r\") as f:\n",
    "    data = f.read()"
   ]
  },
  {
   "cell_type": "code",
   "execution_count": 3,
   "id": "7284699b",
   "metadata": {},
   "outputs": [],
   "source": [
    "pattern = [r\"<.*>\", r\"\\d\", r\"[^a-zA-Z_ ]\"]\n",
    "for pat in pattern:\n",
    "    data = re.sub(pat, \"\", data)"
   ]
  },
  {
   "cell_type": "markdown",
   "id": "490f2036",
   "metadata": {},
   "source": [
    "### 1.2 Transform"
   ]
  },
  {
   "cell_type": "code",
   "execution_count": 4,
   "id": "858455f5",
   "metadata": {},
   "outputs": [
    {
     "data": {
      "text/plain": [
       "True"
      ]
     },
     "execution_count": 4,
     "metadata": {},
     "output_type": "execute_result"
    }
   ],
   "source": [
    "# 1st method \n",
    "if data.isupper() == 0:\n",
    "    result1 = data.upper()\n",
    "else : result1 = data\n",
    "\n",
    "# 2nd method : using for loop\n",
    "result2 = \"\"\n",
    "for char in data:\n",
    "    if char.isupper():\n",
    "        result2 += char\n",
    "    else : result2 += char.upper()\n",
    "        \n",
    "result1 == result2"
   ]
  },
  {
   "cell_type": "markdown",
   "id": "9e9a0c15",
   "metadata": {},
   "source": [
    "### 1.3 Load : Write data provided by transformer into another output file in a different directory"
   ]
  },
  {
   "cell_type": "code",
   "execution_count": 5,
   "id": "2623fa0a",
   "metadata": {},
   "outputs": [],
   "source": [
    "with open(r\"..\\nipl_output\\ouput_task1_nipl.txt\", \"w\") as f:\n",
    "    f.write(result1)"
   ]
  },
  {
   "cell_type": "code",
   "execution_count": null,
   "id": "0d55f6e4",
   "metadata": {},
   "outputs": [],
   "source": []
  },
  {
   "cell_type": "code",
   "execution_count": null,
   "id": "aeaa8cf6",
   "metadata": {},
   "outputs": [],
   "source": []
  },
  {
   "cell_type": "code",
   "execution_count": null,
   "id": "dbf5d9a5",
   "metadata": {},
   "outputs": [],
   "source": []
  },
  {
   "cell_type": "code",
   "execution_count": null,
   "id": "1efac108",
   "metadata": {},
   "outputs": [],
   "source": []
  }
 ],
 "metadata": {
  "kernelspec": {
   "display_name": "Python 3 (ipykernel)",
   "language": "python",
   "name": "python3"
  },
  "language_info": {
   "codemirror_mode": {
    "name": "ipython",
    "version": 3
   },
   "file_extension": ".py",
   "mimetype": "text/x-python",
   "name": "python",
   "nbconvert_exporter": "python",
   "pygments_lexer": "ipython3",
   "version": "3.9.7"
  }
 },
 "nbformat": 4,
 "nbformat_minor": 5
}
